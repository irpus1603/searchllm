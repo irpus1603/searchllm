{
 "cells": [
  {
   "cell_type": "code",
   "execution_count": 4,
   "id": "9506d9ec-fce5-4687-8e43-a6fdde76815b",
   "metadata": {},
   "outputs": [
    {
     "name": "stdout",
     "output_type": "stream",
     "text": [
      "user: John Doe, email: john@gmail.com, age: 30\n"
     ]
    }
   ],
   "source": [
    "class user:\n",
    "    def __init__(self, id: int, name: str, email: str, age: int = None):\n",
    "        self.id = id\n",
    "        self.name = name \n",
    "        self.email = email\n",
    "        self.age = age\n",
    "\n",
    "    def get_user_info(self):\n",
    "        return f\"user: {self.name}, email: {self.email}, age: {self.age}\"\n",
    "\n",
    "user = user(id=1, name=\"John Doe\", email=\"john@gmail.com\", age=30)\n",
    "print(user.get_user_info())\n"
   ]
  },
  {
   "cell_type": "code",
   "execution_count": 29,
   "id": "6eb7dfd9-01b4-41ba-894c-89e64a4854a7",
   "metadata": {},
   "outputs": [
    {
     "name": "stdout",
     "output_type": "stream",
     "text": [
      " check status: False\n",
      "Supriyadi False\n",
      "Supriyadi True\n"
     ]
    }
   ],
   "source": [
    "from pydantic import BaseModel, EmailStr, Field\n",
    "from typing import Optional\n",
    "\n",
    "class User(BaseModel):\n",
    "    id: int\n",
    "    name: str = Field(..., min_length=2, max_length=50)\n",
    "    email: EmailStr\n",
    "    age: Optional[int] = Field(None, gt=10, lt=150)\n",
    "    is_active: bool = False\n",
    "\n",
    "    def activate_user(self):\n",
    "        return self.model_copy(update={\"is_active\":True})\n",
    "      \n",
    "original = User(id=1, name=\"Supriyadi\", email=\"supriyadi1@ioh.co.id\", age=46)\n",
    "\n",
    "updated_user = original.activate_user()\n",
    "\n",
    "print(f\" check status: {original == updated_user}\")\n",
    "print(original.name, original.is_active)\n",
    "print(updated_user.name, updated_user.is_active)\n",
    "    \n",
    "            "
   ]
  },
  {
   "cell_type": "code",
   "execution_count": 20,
   "id": "6c9a440e-7e39-4988-89bf-2f3db8806387",
   "metadata": {},
   "outputs": [
    {
     "name": "stdout",
     "output_type": "stream",
     "text": [
      "<bound method User.activate_user of User(id=1, name='Supriyadi', email='supriyadi1@ioh.co.id', age=46, is_active=True)>\n"
     ]
    }
   ],
   "source": [
    "print(user.activate_user)"
   ]
  },
  {
   "cell_type": "code",
   "execution_count": 34,
   "id": "f69285fc-64cb-42d1-9e3d-b0f4ff3a5a17",
   "metadata": {},
   "outputs": [
    {
     "name": "stdout",
     "output_type": "stream",
     "text": [
      "Comparing CC honda HRV CC > city: True\n"
     ]
    }
   ],
   "source": [
    "from pydantic import BaseModel, Field\n",
    "from typing import Optional\n",
    "\n",
    "class car(BaseModel):\n",
    "    brand: str = Field(..., min_length=2, max_length=50)\n",
    "    type_car: str = Field(..., min_length=3, max_length=50)\n",
    "    cc: Optional[int] = Field(None, gt=500, lt=4000)\n",
    "    price: Optional[int] = Field(None, gt=1000, lt=10000)\n",
    "\n",
    "hrv = car(\n",
    "    brand='honda',\n",
    "    type_car = 'honda hrv',\n",
    "    cc = 1500,\n",
    "    price = 3000\n",
    ")\n",
    "\n",
    "city = car(\n",
    "    brand='honda',\n",
    "    type_car = 'honda City',\n",
    "    cc = 1300,\n",
    "    price = 3000\n",
    ")\n",
    "\n",
    "try:\n",
    "    print(f\"Comparing CC honda HRV CC > city: {hrv.cc > city.cc}\") \n",
    "except Exception as e:\n",
    "    print(e)"
   ]
  },
  {
   "cell_type": "code",
   "execution_count": 35,
   "id": "105affea-15d3-4792-9f30-80da68d23b6c",
   "metadata": {},
   "outputs": [
    {
     "name": "stdout",
     "output_type": "stream",
     "text": [
      "8\n"
     ]
    }
   ],
   "source": [
    "add = lambda x,y: x + y\n",
    "print(add(3,5))"
   ]
  },
  {
   "cell_type": "code",
   "execution_count": 37,
   "id": "32bf3c68-25f1-49ee-b9ed-2fd503aa9136",
   "metadata": {},
   "outputs": [
    {
     "name": "stdout",
     "output_type": "stream",
     "text": [
      "[2, 4]\n"
     ]
    }
   ],
   "source": [
    "numbers = [1,2,3,4,5]\n",
    "even_numbers = list(filter(lambda x: x % 2 == 0, numbers))\n",
    "print(even_numbers)"
   ]
  },
  {
   "cell_type": "code",
   "execution_count": 48,
   "id": "b9e2173c-6b05-458c-9797-bc6c2b56fecb",
   "metadata": {},
   "outputs": [
    {
     "name": "stdout",
     "output_type": "stream",
     "text": [
      "sleeping time end\n",
      "Processing time: 3.01 seconds\n"
     ]
    }
   ],
   "source": [
    "import time\n",
    "\n",
    "def my_decorator():\n",
    "    "
   ]
  },
  {
   "cell_type": "code",
   "execution_count": null,
   "id": "0c21cbbb-cd36-4e4d-9fb9-6e3327641cbb",
   "metadata": {},
   "outputs": [],
   "source": []
  }
 ],
 "metadata": {
  "kernelspec": {
   "display_name": "Python 3 (ipykernel)",
   "language": "python",
   "name": "python3"
  },
  "language_info": {
   "codemirror_mode": {
    "name": "ipython",
    "version": 3
   },
   "file_extension": ".py",
   "mimetype": "text/x-python",
   "name": "python",
   "nbconvert_exporter": "python",
   "pygments_lexer": "ipython3",
   "version": "3.10.16"
  }
 },
 "nbformat": 4,
 "nbformat_minor": 5
}
